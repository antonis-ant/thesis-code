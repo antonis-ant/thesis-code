{
 "cells": [
  {
   "cell_type": "markdown",
   "source": [
    "# Regressor Chain"
   ],
   "metadata": {
    "collapsed": false,
    "pycharm": {
     "name": "#%% md\n"
    }
   }
  },
  {
   "cell_type": "code",
   "execution_count": 12,
   "metadata": {
    "collapsed": true
   },
   "outputs": [],
   "source": [
    "%matplotlib inline\n",
    "import pandas as pd\n",
    "import numpy as np\n",
    "import seaborn as sns\n",
    "import matplotlib.pyplot as plt\n",
    "from sklearn.model_selection import train_test_split\n",
    "from sklearn.preprocessing import StandardScaler\n",
    "from notebook_utils import run_xgb_model, scores_barplot, \\\n",
    "    plot_feature_imps, run_lin_reg_model, print_results, run_models\n",
    "from sklearn.linear_model import LinearRegression\n",
    "\n",
    "\n",
    "pd.set_option('display.max_columns', None)\n",
    "pd.set_option('display.width', None)\n",
    "pd.set_option('display.expand_frame_repr', False)\n",
    "sns.set_theme(style=\"whitegrid\")"
   ]
  },
  {
   "cell_type": "markdown",
   "source": [
    "## Import & Prepare Data"
   ],
   "metadata": {
    "collapsed": false,
    "pycharm": {
     "name": "#%% md\n"
    }
   }
  },
  {
   "cell_type": "code",
   "execution_count": 10,
   "outputs": [
    {
     "name": "stdout",
     "output_type": "stream",
     "text": [
      "   breed  sex  slweight(g)  woolfr  blood  feet  pelt  fullGI  mesent  epipl  liver  spleen  pluck  head  warmcarc  kidney  KKCF  tail  coldcarc  mw%  WtBefDIS  LEG  CHUMP  LOIN  BREAST  BESTEND  MIDNECK  SHOULDER  NECK\n",
      "0      1    1        12399     150    575   450  1250    1400     100    150    275      30    425   635      6850      32   122    32      6612   25      3280  820    307   336     323      236      477       665   110\n",
      "1      1    1        12500     130    575   475  1245    1500      75     75    300      50    525   650      6800      32    78    32      6542   25      3180  803    298   322     290      242      454       682    94\n",
      "2      1    1        12300     140    600   475  1200    1300     100    125    275      50    400   625      6875      32   118    44      6776   25      3350  812    350   328     316      238      500       670   130\n",
      "3      1    1        12399     120    625   450  1225    1375     125    250    300      50    400   650      6850      34   154    32      6642   25      3290  846    274   358     362      228      478       642   106\n",
      "4      1    0         9500     150    475   375  1000    1375      70     50    225      25    375   525      4825      26    74    32      4710   25      2280  608    202   222     192      180      328       464    66\n"
     ]
    }
   ],
   "source": [
    "# Load dataset from csv\n",
    "data = pd.read_csv(\"..\\\\data\\\\dataset-merged.csv\")\n",
    "# Drop unwanted columns\n",
    "data.drop(['sheepid'], axis=1, inplace=True)\n",
    "data.drop(['slaughgr'], axis=1, inplace=True)\n",
    "print(data.head())\n",
    "\n",
    "# Split independent variables from target variables\n",
    "input_cols = ['breed', 'sex', 'slweight(g)']\n",
    "X = data[input_cols]\n",
    "y = data.drop(input_cols, axis=1)\n",
    "# print(X.columns)\n",
    "# print(y.columns)\n",
    "\n",
    "# Scale data\n",
    "std_scaler = StandardScaler()\n",
    "X = pd.DataFrame(std_scaler.fit_transform(X), columns=X.columns)\n",
    "y = pd.DataFrame(std_scaler.fit_transform(y), columns=y.columns)"
   ],
   "metadata": {
    "collapsed": false,
    "pycharm": {
     "name": "#%%\n"
    }
   }
  },
  {
   "cell_type": "code",
   "execution_count": 11,
   "outputs": [
    {
     "name": "stdout",
     "output_type": "stream",
     "text": [
      "          mw%\n",
      "0   -1.165741\n",
      "1   -1.165741\n",
      "2   -1.165741\n",
      "3   -1.165741\n",
      "4   -1.165741\n",
      "..        ...\n",
      "114  1.597669\n",
      "115  1.597669\n",
      "116  1.597669\n",
      "117  1.597669\n",
      "118  1.597669\n",
      "\n",
      "[119 rows x 1 columns]\n"
     ]
    }
   ],
   "source": [
    "# 1st prediction: \"mw%\"\n",
    "y0 = y[['mw%']]\n",
    "print(y0)\n",
    "model = LinearRegression()"
   ],
   "metadata": {
    "collapsed": false,
    "pycharm": {
     "name": "#%%\n"
    }
   }
  }
 ],
 "metadata": {
  "kernelspec": {
   "display_name": "Python 3",
   "language": "python",
   "name": "python3"
  },
  "language_info": {
   "codemirror_mode": {
    "name": "ipython",
    "version": 2
   },
   "file_extension": ".py",
   "mimetype": "text/x-python",
   "name": "python",
   "nbconvert_exporter": "python",
   "pygments_lexer": "ipython2",
   "version": "2.7.6"
  }
 },
 "nbformat": 4,
 "nbformat_minor": 0
}