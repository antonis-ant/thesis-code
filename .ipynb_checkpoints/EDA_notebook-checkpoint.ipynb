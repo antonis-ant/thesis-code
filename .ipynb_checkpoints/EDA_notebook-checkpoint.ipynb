{
 "cells": [
  {
   "cell_type": "markdown",
   "metadata": {
    "collapsed": true,
    "pycharm": {
     "name": "#%% md\n"
    }
   },
   "source": [
    "# Multi-output Regression Data EDA"
   ]
  },
  {
   "cell_type": "code",
   "execution_count": 1,
   "metadata": {
    "pycharm": {
     "name": "#%%\n"
    }
   },
   "outputs": [],
   "source": [
    "import pandas as pd\n",
    "import seaborn as sns\n",
    "import matplotlib.pyplot as plt\n",
    "from sklearn.linear_model import Ridge\n",
    "from sklearn.model_selection import train_test_split\n",
    "import xgboost as xgb\n",
    "from xgboost import plot_importance\n",
    "from sklearn.metrics import mean_squared_error, r2_score\n",
    "from sklearn.multioutput import MultiOutputRegressor\n"
   ]
  },
  {
   "cell_type": "markdown",
   "metadata": {
    "pycharm": {
     "name": "#%% md\n"
    }
   },
   "source": [
    "## Load & prep Data"
   ]
  },
  {
   "cell_type": "code",
   "execution_count": 2,
   "metadata": {
    "pycharm": {
     "name": "#%%\n"
    }
   },
   "outputs": [
    {
     "name": "stdout",
     "output_type": "stream",
     "text": [
      "Train set shape: (101, 4) (101, 26)\n",
      "Rest set shape: (18, 4) (18, 26)\n"
     ]
    }
   ],
   "source": [
    "# Load dataset from csv\n",
    "data = pd.read_csv(\"data\\\\dataset-merged.csv\")\n",
    "# print(data.head().transpose())\n",
    "\n",
    "# Split training samples from labels\n",
    "input_cols = ['breed', 'sex', 'slaughgr', 'slweight(g)']\n",
    "X = data[input_cols]\n",
    "input_cols.append('sheepid')\n",
    "y = data.drop(input_cols, axis=1)\n",
    "\n",
    "# Split train & test sets\n",
    "X_train, X_test, y_train, y_test = train_test_split(X, y, test_size=0.15, random_state=96)\n",
    "print('Train set shape:', X_train.shape, y_train.shape)\n",
    "print('Rest set shape:', X_test.shape, y_test.shape)"
   ]
  },
  {
   "cell_type": "markdown",
   "metadata": {
    "pycharm": {
     "name": "#%% md\n"
    }
   },
   "source": [
    "## Summary"
   ]
  },
  {
   "cell_type": "code",
   "execution_count": 5,
   "metadata": {
    "pycharm": {
     "name": "#%%\n"
    }
   },
   "outputs": [
    {
     "data": {
      "text/html": [
       "<div>\n",
       "<style scoped>\n",
       "    .dataframe tbody tr th:only-of-type {\n",
       "        vertical-align: middle;\n",
       "    }\n",
       "\n",
       "    .dataframe tbody tr th {\n",
       "        vertical-align: top;\n",
       "    }\n",
       "\n",
       "    .dataframe thead th {\n",
       "        text-align: right;\n",
       "    }\n",
       "</style>\n",
       "<table border=\"1\" class=\"dataframe\">\n",
       "  <thead>\n",
       "    <tr style=\"text-align: right;\">\n",
       "      <th></th>\n",
       "      <th>sheepid</th>\n",
       "      <th>breed</th>\n",
       "      <th>sex</th>\n",
       "      <th>slaughgr</th>\n",
       "      <th>slweight(g)</th>\n",
       "      <th>woolfr</th>\n",
       "      <th>blood</th>\n",
       "      <th>feet</th>\n",
       "      <th>pelt</th>\n",
       "      <th>fullGI</th>\n",
       "      <th>...</th>\n",
       "      <th>mw%</th>\n",
       "      <th>WtBefDIS</th>\n",
       "      <th>LEG</th>\n",
       "      <th>CHUMP</th>\n",
       "      <th>LOIN</th>\n",
       "      <th>BREAST</th>\n",
       "      <th>BESTEND</th>\n",
       "      <th>MIDNECK</th>\n",
       "      <th>SHOULDER</th>\n",
       "      <th>NECK</th>\n",
       "    </tr>\n",
       "  </thead>\n",
       "  <tbody>\n",
       "    <tr>\n",
       "      <th>count</th>\n",
       "      <td>119.000000</td>\n",
       "      <td>119.000000</td>\n",
       "      <td>119.000000</td>\n",
       "      <td>119.000000</td>\n",
       "      <td>119.000000</td>\n",
       "      <td>119.000000</td>\n",
       "      <td>119.000000</td>\n",
       "      <td>119.000000</td>\n",
       "      <td>119.000000</td>\n",
       "      <td>119.000000</td>\n",
       "      <td>...</td>\n",
       "      <td>119.000000</td>\n",
       "      <td>119.000000</td>\n",
       "      <td>119.000000</td>\n",
       "      <td>119.000000</td>\n",
       "      <td>119.000000</td>\n",
       "      <td>119.000000</td>\n",
       "      <td>119.000000</td>\n",
       "      <td>119.000000</td>\n",
       "      <td>119.000000</td>\n",
       "      <td>119.000000</td>\n",
       "    </tr>\n",
       "    <tr>\n",
       "      <th>mean</th>\n",
       "      <td>2823.184874</td>\n",
       "      <td>1.991597</td>\n",
       "      <td>0.504202</td>\n",
       "      <td>2.983193</td>\n",
       "      <td>30293.310924</td>\n",
       "      <td>643.613445</td>\n",
       "      <td>1264.563025</td>\n",
       "      <td>697.445378</td>\n",
       "      <td>2588.478992</td>\n",
       "      <td>5596.344538</td>\n",
       "      <td>...</td>\n",
       "      <td>56.638655</td>\n",
       "      <td>7157.554622</td>\n",
       "      <td>1631.764706</td>\n",
       "      <td>690.563025</td>\n",
       "      <td>818.899160</td>\n",
       "      <td>735.529412</td>\n",
       "      <td>584.781513</td>\n",
       "      <td>1022.294118</td>\n",
       "      <td>1400.100840</td>\n",
       "      <td>251.529412</td>\n",
       "    </tr>\n",
       "    <tr>\n",
       "      <th>std</th>\n",
       "      <td>3659.516792</td>\n",
       "      <td>0.818181</td>\n",
       "      <td>0.502096</td>\n",
       "      <td>1.414113</td>\n",
       "      <td>15678.515993</td>\n",
       "      <td>353.645018</td>\n",
       "      <td>682.566737</td>\n",
       "      <td>283.001458</td>\n",
       "      <td>1232.859896</td>\n",
       "      <td>2630.089553</td>\n",
       "      <td>...</td>\n",
       "      <td>27.255144</td>\n",
       "      <td>3959.369053</td>\n",
       "      <td>779.948485</td>\n",
       "      <td>406.575980</td>\n",
       "      <td>520.869504</td>\n",
       "      <td>483.940951</td>\n",
       "      <td>342.773759</td>\n",
       "      <td>578.012790</td>\n",
       "      <td>747.376954</td>\n",
       "      <td>157.972312</td>\n",
       "    </tr>\n",
       "    <tr>\n",
       "      <th>min</th>\n",
       "      <td>1.000000</td>\n",
       "      <td>1.000000</td>\n",
       "      <td>0.000000</td>\n",
       "      <td>1.000000</td>\n",
       "      <td>9500.000000</td>\n",
       "      <td>120.000000</td>\n",
       "      <td>375.000000</td>\n",
       "      <td>300.000000</td>\n",
       "      <td>980.000000</td>\n",
       "      <td>1300.000000</td>\n",
       "      <td>...</td>\n",
       "      <td>25.000000</td>\n",
       "      <td>2160.000000</td>\n",
       "      <td>546.000000</td>\n",
       "      <td>200.000000</td>\n",
       "      <td>216.000000</td>\n",
       "      <td>180.000000</td>\n",
       "      <td>170.000000</td>\n",
       "      <td>294.000000</td>\n",
       "      <td>452.000000</td>\n",
       "      <td>64.000000</td>\n",
       "    </tr>\n",
       "    <tr>\n",
       "      <th>25%</th>\n",
       "      <td>45.500000</td>\n",
       "      <td>1.000000</td>\n",
       "      <td>0.000000</td>\n",
       "      <td>2.000000</td>\n",
       "      <td>17899.000000</td>\n",
       "      <td>330.000000</td>\n",
       "      <td>692.500000</td>\n",
       "      <td>475.000000</td>\n",
       "      <td>1632.500000</td>\n",
       "      <td>3455.000000</td>\n",
       "      <td>...</td>\n",
       "      <td>35.000000</td>\n",
       "      <td>3910.000000</td>\n",
       "      <td>1015.000000</td>\n",
       "      <td>350.000000</td>\n",
       "      <td>398.500000</td>\n",
       "      <td>351.000000</td>\n",
       "      <td>293.000000</td>\n",
       "      <td>560.000000</td>\n",
       "      <td>761.500000</td>\n",
       "      <td>140.000000</td>\n",
       "    </tr>\n",
       "    <tr>\n",
       "      <th>50%</th>\n",
       "      <td>254.000000</td>\n",
       "      <td>2.000000</td>\n",
       "      <td>1.000000</td>\n",
       "      <td>3.000000</td>\n",
       "      <td>25600.000000</td>\n",
       "      <td>600.000000</td>\n",
       "      <td>1100.000000</td>\n",
       "      <td>650.000000</td>\n",
       "      <td>2250.000000</td>\n",
       "      <td>5500.000000</td>\n",
       "      <td>...</td>\n",
       "      <td>50.000000</td>\n",
       "      <td>5960.000000</td>\n",
       "      <td>1425.000000</td>\n",
       "      <td>608.000000</td>\n",
       "      <td>656.000000</td>\n",
       "      <td>584.000000</td>\n",
       "      <td>486.000000</td>\n",
       "      <td>852.000000</td>\n",
       "      <td>1150.000000</td>\n",
       "      <td>200.000000</td>\n",
       "    </tr>\n",
       "    <tr>\n",
       "      <th>75%</th>\n",
       "      <td>7975.500000</td>\n",
       "      <td>3.000000</td>\n",
       "      <td>1.000000</td>\n",
       "      <td>4.000000</td>\n",
       "      <td>39049.500000</td>\n",
       "      <td>950.000000</td>\n",
       "      <td>1837.500000</td>\n",
       "      <td>887.500000</td>\n",
       "      <td>3250.000000</td>\n",
       "      <td>7250.000000</td>\n",
       "      <td>...</td>\n",
       "      <td>75.000000</td>\n",
       "      <td>9222.500000</td>\n",
       "      <td>2120.000000</td>\n",
       "      <td>933.000000</td>\n",
       "      <td>1097.000000</td>\n",
       "      <td>1047.000000</td>\n",
       "      <td>806.000000</td>\n",
       "      <td>1256.000000</td>\n",
       "      <td>1822.000000</td>\n",
       "      <td>308.000000</td>\n",
       "    </tr>\n",
       "    <tr>\n",
       "      <th>max</th>\n",
       "      <td>8135.000000</td>\n",
       "      <td>3.000000</td>\n",
       "      <td>1.000000</td>\n",
       "      <td>5.000000</td>\n",
       "      <td>71599.000000</td>\n",
       "      <td>1400.000000</td>\n",
       "      <td>3000.000000</td>\n",
       "      <td>1625.000000</td>\n",
       "      <td>6800.000000</td>\n",
       "      <td>11500.000000</td>\n",
       "      <td>...</td>\n",
       "      <td>100.000000</td>\n",
       "      <td>17495.000000</td>\n",
       "      <td>3736.000000</td>\n",
       "      <td>1716.000000</td>\n",
       "      <td>2432.000000</td>\n",
       "      <td>2100.000000</td>\n",
       "      <td>1480.000000</td>\n",
       "      <td>2586.000000</td>\n",
       "      <td>3528.000000</td>\n",
       "      <td>902.000000</td>\n",
       "    </tr>\n",
       "  </tbody>\n",
       "</table>\n",
       "<p>8 rows × 31 columns</p>\n",
       "</div>"
      ],
      "text/plain": [
       "           sheepid       breed         sex    slaughgr   slweight(g)  \\\n",
       "count   119.000000  119.000000  119.000000  119.000000    119.000000   \n",
       "mean   2823.184874    1.991597    0.504202    2.983193  30293.310924   \n",
       "std    3659.516792    0.818181    0.502096    1.414113  15678.515993   \n",
       "min       1.000000    1.000000    0.000000    1.000000   9500.000000   \n",
       "25%      45.500000    1.000000    0.000000    2.000000  17899.000000   \n",
       "50%     254.000000    2.000000    1.000000    3.000000  25600.000000   \n",
       "75%    7975.500000    3.000000    1.000000    4.000000  39049.500000   \n",
       "max    8135.000000    3.000000    1.000000    5.000000  71599.000000   \n",
       "\n",
       "            woolfr        blood         feet         pelt        fullGI  ...  \\\n",
       "count   119.000000   119.000000   119.000000   119.000000    119.000000  ...   \n",
       "mean    643.613445  1264.563025   697.445378  2588.478992   5596.344538  ...   \n",
       "std     353.645018   682.566737   283.001458  1232.859896   2630.089553  ...   \n",
       "min     120.000000   375.000000   300.000000   980.000000   1300.000000  ...   \n",
       "25%     330.000000   692.500000   475.000000  1632.500000   3455.000000  ...   \n",
       "50%     600.000000  1100.000000   650.000000  2250.000000   5500.000000  ...   \n",
       "75%     950.000000  1837.500000   887.500000  3250.000000   7250.000000  ...   \n",
       "max    1400.000000  3000.000000  1625.000000  6800.000000  11500.000000  ...   \n",
       "\n",
       "              mw%      WtBefDIS          LEG        CHUMP         LOIN  \\\n",
       "count  119.000000    119.000000   119.000000   119.000000   119.000000   \n",
       "mean    56.638655   7157.554622  1631.764706   690.563025   818.899160   \n",
       "std     27.255144   3959.369053   779.948485   406.575980   520.869504   \n",
       "min     25.000000   2160.000000   546.000000   200.000000   216.000000   \n",
       "25%     35.000000   3910.000000  1015.000000   350.000000   398.500000   \n",
       "50%     50.000000   5960.000000  1425.000000   608.000000   656.000000   \n",
       "75%     75.000000   9222.500000  2120.000000   933.000000  1097.000000   \n",
       "max    100.000000  17495.000000  3736.000000  1716.000000  2432.000000   \n",
       "\n",
       "            BREAST      BESTEND      MIDNECK     SHOULDER        NECK  \n",
       "count   119.000000   119.000000   119.000000   119.000000  119.000000  \n",
       "mean    735.529412   584.781513  1022.294118  1400.100840  251.529412  \n",
       "std     483.940951   342.773759   578.012790   747.376954  157.972312  \n",
       "min     180.000000   170.000000   294.000000   452.000000   64.000000  \n",
       "25%     351.000000   293.000000   560.000000   761.500000  140.000000  \n",
       "50%     584.000000   486.000000   852.000000  1150.000000  200.000000  \n",
       "75%    1047.000000   806.000000  1256.000000  1822.000000  308.000000  \n",
       "max    2100.000000  1480.000000  2586.000000  3528.000000  902.000000  \n",
       "\n",
       "[8 rows x 31 columns]"
      ]
     },
     "execution_count": 5,
     "metadata": {},
     "output_type": "execute_result"
    }
   ],
   "source": [
    "data.describe()"
   ]
  },
  {
   "cell_type": "markdown",
   "metadata": {
    "pycharm": {
     "name": "#%% md\n"
    }
   },
   "source": [
    "## Feature Correlation\n",
    "Αρχικά θα διερευνήσουμε το βαθμό συσχέτισης μεταξύ όλων των χαρακτηριστικών."
   ]
  },
  {
   "cell_type": "code",
   "execution_count": 3,
   "metadata": {
    "pycharm": {
     "name": "#%%\n"
    }
   },
   "outputs": [
    {
     "data": {
      "image/png": "[encoded data removed]",
      "text/plain": [
       "<Figure size 432x288 with 2 Axes>"
      ]
     },
     "metadata": {
      "needs_background": "light"
     },
     "output_type": "display_data"
    },
    {
     "data": {
      "image/png": "[encoded data removed]",
      "text/plain": [
       "<Figure size 432x288 with 2 Axes>"
      ]
     },
     "metadata": {
      "needs_background": "light"
     },
     "output_type": "display_data"
    }
   ],
   "source": [
    "input_cols_corr = X.corr()\n",
    "sns.heatmap(input_cols_corr, annot=False, cmap='Reds')\n",
    "plt.show()\n",
    "\n",
    "output_cols_corr = data.corr()\n",
    "sns.heatmap(output_cols_corr, annot=False, cmap='Reds')# sns.set(font_scale=0.5)\n",
    "plt.show()\n"
   ]
  },
  {
   "cell_type": "markdown",
   "metadata": {},
   "source": [
    "Παρά το γεγονός ότι τα δεδομένα είναι πάρα πολλά για να είμαστε σε θέση να κατανοήσουμε το heatmap λεπτομερώς μπορούμε\n",
    "εξάγουμε μεροικά συμπεράσματα απο τη γενική εικόνα τους.\n",
    "\n",
    "Πιό συγκεκριμένα, στο 1ο heatmap βλέπουμε μια αναπαράσταση του βαθμού συσχέτισης μεταξύ των μεταβλητλών εισόδου. Απο την\n",
    "αναπαράσταση αυτή είναι εμφανές ότι τα χαρακτηριστιά εισόδου είναι αρκετά ασυσχέτιστα μεταξύ τους με εξάιρεση\n",
    "τα χαρ/κα \"slweight(g)\" και \"slaughgr\" τα οπόια παρουσιάζουν υψηλή συσχέτιση. Αυτό σημαίνει ότι τα χρακτητιστικά εισόδου\n",
    "είναι αρκετά ανεξάρτητα ώστε η χρήση τους να προσφέρει αρκετή πληροφορία.\n",
    "\n",
    "Στό 2ο  heatmap είναι εμφανές πως τα δεδομένα εξόδου έχουν υψηλή συσχέτιση μεταξύ τους αλλά καί με τα δεδομένα εισόδου καθώς\n",
    "το μεγαλύτερο μέςρος του heatmap είναι βαθιά κοκκινισμένο. Επίσης επαληθέυεται αυτό που παρατηρήσαμε στο 1ο heatmap, δηλαδή\n",
    "ότι οι συσχετίσεις μεταξύ των μεταβλητών εισόδου είναι χαμηλές σε σχέση με τις συσχετίσεις μεταξύ των δεδομένων εξόδου."
   ]
  }
 ],
 "metadata": {
  "kernelspec": {
   "display_name": "Python 3",
   "language": "python",
   "name": "python3"
  },
  "language_info": {
   "codemirror_mode": {
    "name": "ipython",
    "version": 3
   },
   "file_extension": ".py",
   "mimetype": "text/x-python",
   "name": "python",
   "nbconvert_exporter": "python",
   "pygments_lexer": "ipython3",
   "version": "3.8.3"
  }
 },
 "nbformat": 4,
 "nbformat_minor": 1
}
